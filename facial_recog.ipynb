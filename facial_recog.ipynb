{
  "nbformat": 4,
  "nbformat_minor": 0,
  "metadata": {
    "colab": {
      "provenance": []
    },
    "kernelspec": {
      "name": "python3",
      "display_name": "Python 3"
    },
    "language_info": {
      "name": "python"
    }
  },
  "cells": [
    {
      "cell_type": "markdown",
      "source": [
        "# Siamese Neural Network"
      ],
      "metadata": {
        "id": "pd1YJHEtcPRT"
      }
    },
    {
      "cell_type": "code",
      "execution_count": null,
      "metadata": {
        "id": "K6r-vzTjRYYE"
      },
      "outputs": [],
      "source": [
        "# Installing Dependencies\n",
        "\n",
        "!pip install tensorflow # ==2.16.1\n",
        "!pip install opencv-python matplotlib"
      ]
    },
    {
      "cell_type": "code",
      "source": [
        "# Importing Standard Dependencies\n",
        "\n",
        "import cv2\n",
        "import os\n",
        "import random\n",
        "import numpy as np\n",
        "from matplotlib import pyplot as plt"
      ],
      "metadata": {
        "id": "-mo9gvenRbrj"
      },
      "execution_count": 2,
      "outputs": []
    },
    {
      "cell_type": "code",
      "source": [
        "# Importing Tensorflow Dependencies - Tensorflow Functional API\n",
        "\n",
        "import tensorflow as tf\n",
        "from tensorflow.keras.models import Model\n",
        "from tensorflow.keras.layers import Layer, Conv2D, Dense, MaxPooling2D, Input, Flatten"
      ],
      "metadata": {
        "id": "pPRKa-uOaZoi"
      },
      "execution_count": 7,
      "outputs": []
    },
    {
      "cell_type": "code",
      "source": [
        "gpus = tf.config.experimental.list_physical_devices('GPU')\n",
        "for gpu in gpus:\n",
        "  tf.config.experimental.set_memory_growth(gpu, True)"
      ],
      "metadata": {
        "id": "cjB0fQWQaZMK"
      },
      "execution_count": 12,
      "outputs": []
    },
    {
      "cell_type": "markdown",
      "source": [
        "## Create Folder Structures"
      ],
      "metadata": {
        "id": "dGb5FGZg3MVs"
      }
    },
    {
      "cell_type": "code",
      "source": [
        "# Path Setup\n",
        "\n",
        "POSITIVE_PATH = os.path.join('data_', 'positive')\n",
        "NEGATIVE_PATH = os.path.join('data_', 'negative')\n",
        "ANCHOR_PATH = os.path.join('data_', 'anchor')"
      ],
      "metadata": {
        "id": "M-W3RiZp1-Zt"
      },
      "execution_count": 25,
      "outputs": []
    },
    {
      "cell_type": "code",
      "source": [
        "# Making the directories\n",
        "\n",
        "os.makedirs(POSITIVE_PATH)\n",
        "os.makedirs(NEGATIVE_PATH)\n",
        "os.makedirs(ANCHOR_PATH)"
      ],
      "metadata": {
        "id": "XVk8HAy11-Oi"
      },
      "execution_count": 26,
      "outputs": []
    },
    {
      "cell_type": "code",
      "source": [],
      "metadata": {
        "id": "uDAiW9w41-JT"
      },
      "execution_count": null,
      "outputs": []
    },
    {
      "cell_type": "code",
      "source": [],
      "metadata": {
        "id": "PxsEB-zR1-BP"
      },
      "execution_count": null,
      "outputs": []
    }
  ]
}